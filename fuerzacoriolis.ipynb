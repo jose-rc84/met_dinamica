{
 "cells": [
  {
   "cell_type": "code",
   "execution_count": 1,
   "id": "prostate-vienna",
   "metadata": {},
   "outputs": [],
   "source": [
    "import numpy as np\n"
   ]
  },
  {
   "cell_type": "code",
   "execution_count": 2,
   "id": "finnish-pavilion",
   "metadata": {},
   "outputs": [],
   "source": [
    "import matplotlib.pyplot as plt"
   ]
  },
  {
   "cell_type": "code",
   "execution_count": 3,
   "id": "pending-belle",
   "metadata": {},
   "outputs": [],
   "source": [
    "#*********************************"
   ]
  },
  {
   "cell_type": "code",
   "execution_count": 4,
   "id": "drawn-arlington",
   "metadata": {},
   "outputs": [],
   "source": [
    "# simulation parameters:"
   ]
  },
  {
   "cell_type": "code",
   "execution_count": 5,
   "id": "blessed-romania",
   "metadata": {},
   "outputs": [],
   "source": [
    "#*********************************"
   ]
  },
  {
   "cell_type": "code",
   "execution_count": 6,
   "id": "sharing-gazette",
   "metadata": {},
   "outputs": [],
   "source": [
    "# initial latitude (degrees):"
   ]
  },
  {
   "cell_type": "code",
   "execution_count": 7,
   "id": "unlikely-finger",
   "metadata": {},
   "outputs": [],
   "source": [
    "lat0 = 0 "
   ]
  },
  {
   "cell_type": "code",
   "execution_count": 8,
   "id": "binding-confidence",
   "metadata": {},
   "outputs": [],
   "source": [
    "# initial velocity in x (m/s):"
   ]
  },
  {
   "cell_type": "code",
   "execution_count": 9,
   "id": "military-endorsement",
   "metadata": {},
   "outputs": [],
   "source": [
    "Vx0 = 0"
   ]
  },
  {
   "cell_type": "code",
   "execution_count": 10,
   "id": "chicken-winter",
   "metadata": {},
   "outputs": [],
   "source": [
    "# initial velocity in y (m/s):"
   ]
  },
  {
   "cell_type": "code",
   "execution_count": 11,
   "id": "unsigned-investor",
   "metadata": {},
   "outputs": [],
   "source": [
    "Vy0 = 0"
   ]
  },
  {
   "cell_type": "code",
   "execution_count": 12,
   "id": "gross-irrigation",
   "metadata": {},
   "outputs": [],
   "source": [
    "# simulation time (hours):"
   ]
  },
  {
   "cell_type": "code",
   "execution_count": 13,
   "id": "based-adoption",
   "metadata": {},
   "outputs": [],
   "source": [
    "Time_period = 0"
   ]
  },
  {
   "cell_type": "code",
   "execution_count": 14,
   "id": "prescription-record",
   "metadata": {},
   "outputs": [],
   "source": [
    "# time step (s):"
   ]
  },
  {
   "cell_type": "code",
   "execution_count": 15,
   "id": "sticky-rally",
   "metadata": {},
   "outputs": [],
   "source": [
    "dt = 0"
   ]
  },
  {
   "cell_type": "code",
   "execution_count": 16,
   "id": "charged-european",
   "metadata": {},
   "outputs": [],
   "source": [
    "# consider f costant?"
   ]
  },
  {
   "cell_type": "code",
   "execution_count": 17,
   "id": "attended-things",
   "metadata": {},
   "outputs": [],
   "source": [
    "f_constant = True"
   ]
  },
  {
   "cell_type": "code",
   "execution_count": 18,
   "id": "statutory-phoenix",
   "metadata": {},
   "outputs": [],
   "source": [
    "# Earth's angular speed of rotation:"
   ]
  },
  {
   "cell_type": "code",
   "execution_count": 19,
   "id": "atomic-quebec",
   "metadata": {},
   "outputs": [],
   "source": [
    "omega = 2.*np.pi/(24.*60.*60.) "
   ]
  },
  {
   "cell_type": "code",
   "execution_count": 20,
   "id": "pleasant-darwin",
   "metadata": {},
   "outputs": [],
   "source": [
    "#*********************************"
   ]
  },
  {
   "cell_type": "code",
   "execution_count": 21,
   "id": "nonprofit-manchester",
   "metadata": {},
   "outputs": [],
   "source": [
    "# definition of functions:"
   ]
  },
  {
   "cell_type": "code",
   "execution_count": 22,
   "id": "figured-motion",
   "metadata": {},
   "outputs": [],
   "source": [
    "#*********************************"
   ]
  },
  {
   "cell_type": "code",
   "execution_count": 23,
   "id": "seventh-arcade",
   "metadata": {},
   "outputs": [
    {
     "ename": "SyntaxError",
     "evalue": "unexpected EOF while parsing (<ipython-input-23-9ec3f623cafe>, line 1)",
     "output_type": "error",
     "traceback": [
      "\u001b[0;36m  File \u001b[0;32m\"<ipython-input-23-9ec3f623cafe>\"\u001b[0;36m, line \u001b[0;32m1\u001b[0m\n\u001b[0;31m    def calc_acc(vx, vy, lat, w=omega):\u001b[0m\n\u001b[0m                                       ^\u001b[0m\n\u001b[0;31mSyntaxError\u001b[0m\u001b[0;31m:\u001b[0m unexpected EOF while parsing\n"
     ]
    }
   ],
   "source": [
    "def calc_acc(vx, vy, lat, w=omega):"
   ]
  },
  {
   "cell_type": "code",
   "execution_count": null,
   "id": "digital-invitation",
   "metadata": {},
   "outputs": [],
   "source": []
  }
 ],
 "metadata": {
  "kernelspec": {
   "display_name": "Python 3",
   "language": "python",
   "name": "python3"
  },
  "language_info": {
   "codemirror_mode": {
    "name": "ipython",
    "version": 3
   },
   "file_extension": ".py",
   "mimetype": "text/x-python",
   "name": "python",
   "nbconvert_exporter": "python",
   "pygments_lexer": "ipython3",
   "version": "3.7.10"
  }
 },
 "nbformat": 4,
 "nbformat_minor": 5
}
